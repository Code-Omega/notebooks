{
 "cells": [
  {
   "cell_type": "markdown",
   "metadata": {},
   "source": [
    "\n",
    "# FIN 512 Snowball Case\n",
    "## Team Member:  Zehua Li,   Meihua Xie,   Zishan Cai\n",
    "## netID: zehuali2,  mxie6,  zcai10"
   ]
  },
  {
   "cell_type": "code",
   "execution_count": 1,
   "metadata": {
    "collapsed": true
   },
   "outputs": [],
   "source": [
    "%matplotlib inline\n",
    "import matplotlib.pyplot as plt\n",
    "import numpy as np\n",
    "import scipy.stats as stats\n",
    "import pandas as pd\n",
    "from scipy.optimize import minimize"
   ]
  },
  {
   "cell_type": "markdown",
   "metadata": {},
   "source": [
    "## Loading data"
   ]
  },
  {
   "cell_type": "code",
   "execution_count": 2,
   "metadata": {
    "collapsed": true
   },
   "outputs": [],
   "source": [
    "erb = pd.read_excel(\"EUR3MTD156N.xls\", header = None)\n",
    "zcb = pd.read_excel(\"Eurozone_zero_coupon_yield_curves.xlsx\", header = 1)"
   ]
  },
  {
   "cell_type": "code",
   "execution_count": 3,
   "metadata": {
    "collapsed": true
   },
   "outputs": [],
   "source": [
    "erb['date']=erb[0].astype('str')"
   ]
  },
  {
   "cell_type": "code",
   "execution_count": 4,
   "metadata": {
    "collapsed": true
   },
   "outputs": [],
   "source": [
    "ntn = 89083545 # notional"
   ]
  },
  {
   "cell_type": "markdown",
   "metadata": {},
   "source": [
    "## Spread dates"
   ]
  },
  {
   "cell_type": "code",
   "execution_count": 5,
   "metadata": {
    "collapsed": true
   },
   "outputs": [],
   "source": [
    "ind = erb[((erb['date'].str[5:]=='03-13') | \n",
    "          (erb['date'].str[5:]=='06-13') |\n",
    "          (erb['date'].str[5:]=='09-13') |\n",
    "          (erb['date'].str[5:]=='12-13')) &\n",
    "          (erb['date'].str[0:4].astype('int')>2008)].index.tolist()\n",
    "\n",
    "ind.extend([erb[(erb['date']=='2008-12-15')].index[0],\n",
    "            erb[(erb['date']=='2009-06-15')].index[0],\n",
    "            erb[(erb['date']=='2009-09-14')].index[0],\n",
    "            erb[(erb['date']=='2009-12-14')].index[0],\n",
    "            erb[(erb['date']=='2010-03-15')].index[0],\n",
    "            erb[(erb['date']=='2010-06-14')].index[0],\n",
    "            erb[(erb['date']=='2011-03-14')].index[0],\n",
    "            erb[(erb['date']=='2014-09-15')].index[0],\n",
    "            erb[(erb['date']=='2014-12-15')].index[0],\n",
    "            erb[(erb['date']=='2015-06-15')].index[0],\n",
    "            erb[(erb['date']=='2015-09-14')].index[0],\n",
    "            erb[(erb['date']=='2015-12-14')].index[0],\n",
    "            erb[(erb['date']=='2016-03-14')].index[0]])\n",
    "\n",
    "ind.sort()\n",
    "#ind = ind[:-1]"
   ]
  },
  {
   "cell_type": "code",
   "execution_count": 6,
   "metadata": {},
   "outputs": [
    {
     "data": {
      "text/plain": [
       "37"
      ]
     },
     "execution_count": 6,
     "metadata": {},
     "output_type": "execute_result"
    }
   ],
   "source": [
    "len(ind)"
   ]
  },
  {
   "cell_type": "code",
   "execution_count": 7,
   "metadata": {},
   "outputs": [
    {
     "data": {
      "text/html": [
       "<div>\n",
       "<style>\n",
       "    .dataframe thead tr:only-child th {\n",
       "        text-align: right;\n",
       "    }\n",
       "\n",
       "    .dataframe thead th {\n",
       "        text-align: left;\n",
       "    }\n",
       "\n",
       "    .dataframe tbody tr th {\n",
       "        vertical-align: top;\n",
       "    }\n",
       "</style>\n",
       "<table border=\"1\" class=\"dataframe\">\n",
       "  <thead>\n",
       "    <tr style=\"text-align: right;\">\n",
       "      <th></th>\n",
       "      <th>0</th>\n",
       "      <th>1</th>\n",
       "      <th>date</th>\n",
       "    </tr>\n",
       "  </thead>\n",
       "  <tbody>\n",
       "    <tr>\n",
       "      <th>2659</th>\n",
       "      <td>2009-03-13</td>\n",
       "      <td>1.6425</td>\n",
       "      <td>2009-03-13</td>\n",
       "    </tr>\n",
       "  </tbody>\n",
       "</table>\n",
       "</div>"
      ],
      "text/plain": [
       "              0       1        date\n",
       "2659 2009-03-13  1.6425  2009-03-13"
      ]
     },
     "execution_count": 7,
     "metadata": {},
     "output_type": "execute_result"
    }
   ],
   "source": [
    "erb[(erb.index==2659)]"
   ]
  },
  {
   "cell_type": "markdown",
   "metadata": {},
   "source": [
    "# Question 1"
   ]
  },
  {
   "cell_type": "markdown",
   "metadata": {},
   "source": [
    "## Answer:\n",
    "### Total amount of net payments MdP required to make is 372,830,564."
   ]
  },
  {
   "cell_type": "markdown",
   "metadata": {},
   "source": [
    "## Calculate net payment of through March 13, 2018"
   ]
  },
  {
   "cell_type": "code",
   "execution_count": 9,
   "metadata": {
    "collapsed": true
   },
   "outputs": [],
   "source": [
    "perc = (-0.75-1.5) + (-1.5 * 10 * 2)\n",
    "temp = 0\n",
    "for i in ind:\n",
    "    if erb[1][i] <= 2:\n",
    "        temp += 2 * (2 - erb[1][i])\n",
    "    elif erb[1][i] >= 6:\n",
    "        temp += 2 * (erb[1][i] - 6)\n",
    "    else:\n",
    "        temp -= 0.5\n",
    "    temp = max(0, temp)\n",
    "    perc += temp*0.25"
   ]
  },
  {
   "cell_type": "code",
   "execution_count": 10,
   "metadata": {},
   "outputs": [
    {
     "data": {
      "text/plain": [
       "372830563.96284598"
      ]
     },
     "execution_count": 10,
     "metadata": {},
     "output_type": "execute_result"
    }
   ],
   "source": [
    "ntn*perc/100"
   ]
  },
  {
   "cell_type": "markdown",
   "metadata": {},
   "source": [
    "# Question 2"
   ]
  },
  {
   "cell_type": "markdown",
   "metadata": {},
   "source": [
    "## Answer:\n",
    "   ### If the swap was terminated, MdP will owe Banco Santander 484,772,949."
   ]
  },
  {
   "cell_type": "markdown",
   "metadata": {},
   "source": [
    "## calculate b"
   ]
  },
  {
   "cell_type": "code",
   "execution_count": 11,
   "metadata": {
    "collapsed": true
   },
   "outputs": [],
   "source": [
    "k = 0.1\n",
    "erb['dif']=erb[1].diff()/100\n",
    "ind_b = erb[erb[0]=='2013-12-13'].index[0]\n",
    "b = ((252)**0.5)*erb.dif[1:ind_b+1].std()"
   ]
  },
  {
   "cell_type": "code",
   "execution_count": 12,
   "metadata": {},
   "outputs": [
    {
     "data": {
      "text/plain": [
       "0.0028483182537837465"
      ]
     },
     "execution_count": 12,
     "metadata": {},
     "output_type": "execute_result"
    }
   ],
   "source": [
    "b"
   ]
  },
  {
   "cell_type": "markdown",
   "metadata": {},
   "source": [
    "## Find r*"
   ]
  },
  {
   "cell_type": "code",
   "execution_count": 13,
   "metadata": {
    "collapsed": true
   },
   "outputs": [],
   "source": [
    "zcb.columns = ['Maturity','y131213','y070313']"
   ]
  },
  {
   "cell_type": "code",
   "execution_count": 14,
   "metadata": {
    "collapsed": true
   },
   "outputs": [],
   "source": [
    "zcb['y131213'] = zcb['y131213']/100\n",
    "zcb['y070313'] = zcb['y070313']/100"
   ]
  },
  {
   "cell_type": "code",
   "execution_count": 15,
   "metadata": {
    "collapsed": true
   },
   "outputs": [],
   "source": [
    "zcb['M']=[0,0.5,0.75]+list(range(1,31))"
   ]
  },
  {
   "cell_type": "code",
   "execution_count": 16,
   "metadata": {
    "collapsed": true
   },
   "outputs": [],
   "source": [
    "zcb['b131213'] = 1/(1+zcb['y131213'])**zcb['M']"
   ]
  },
  {
   "cell_type": "code",
   "execution_count": 17,
   "metadata": {
    "collapsed": true
   },
   "outputs": [],
   "source": [
    "zcb['b070313'] = 1/(1+zcb['y070313'])**zcb['M']"
   ]
  },
  {
   "cell_type": "code",
   "execution_count": 18,
   "metadata": {},
   "outputs": [
    {
     "data": {
      "text/html": [
       "<div>\n",
       "<style>\n",
       "    .dataframe thead tr:only-child th {\n",
       "        text-align: right;\n",
       "    }\n",
       "\n",
       "    .dataframe thead th {\n",
       "        text-align: left;\n",
       "    }\n",
       "\n",
       "    .dataframe tbody tr th {\n",
       "        vertical-align: top;\n",
       "    }\n",
       "</style>\n",
       "<table border=\"1\" class=\"dataframe\">\n",
       "  <thead>\n",
       "    <tr style=\"text-align: right;\">\n",
       "      <th></th>\n",
       "      <th>Maturity</th>\n",
       "      <th>y131213</th>\n",
       "      <th>y070313</th>\n",
       "      <th>M</th>\n",
       "      <th>b131213</th>\n",
       "      <th>b070313</th>\n",
       "    </tr>\n",
       "  </thead>\n",
       "  <tbody>\n",
       "    <tr>\n",
       "      <th>0</th>\n",
       "      <td>3 months</td>\n",
       "      <td>0.002423</td>\n",
       "      <td>0.036752</td>\n",
       "      <td>0.00</td>\n",
       "      <td>1.000000</td>\n",
       "      <td>1.000000</td>\n",
       "    </tr>\n",
       "    <tr>\n",
       "      <th>1</th>\n",
       "      <td>6 months</td>\n",
       "      <td>0.003902</td>\n",
       "      <td>0.037850</td>\n",
       "      <td>0.50</td>\n",
       "      <td>0.998055</td>\n",
       "      <td>0.981596</td>\n",
       "    </tr>\n",
       "    <tr>\n",
       "      <th>2</th>\n",
       "      <td>9 months</td>\n",
       "      <td>0.004854</td>\n",
       "      <td>0.038403</td>\n",
       "      <td>0.75</td>\n",
       "      <td>0.996375</td>\n",
       "      <td>0.972132</td>\n",
       "    </tr>\n",
       "    <tr>\n",
       "      <th>3</th>\n",
       "      <td>1 year</td>\n",
       "      <td>0.005500</td>\n",
       "      <td>0.038646</td>\n",
       "      <td>1.00</td>\n",
       "      <td>0.994530</td>\n",
       "      <td>0.962792</td>\n",
       "    </tr>\n",
       "    <tr>\n",
       "      <th>4</th>\n",
       "      <td>2 years</td>\n",
       "      <td>0.007331</td>\n",
       "      <td>0.038526</td>\n",
       "      <td>2.00</td>\n",
       "      <td>0.985497</td>\n",
       "      <td>0.927182</td>\n",
       "    </tr>\n",
       "  </tbody>\n",
       "</table>\n",
       "</div>"
      ],
      "text/plain": [
       "   Maturity   y131213   y070313     M   b131213   b070313\n",
       "0  3 months  0.002423  0.036752  0.00  1.000000  1.000000\n",
       "1  6 months  0.003902  0.037850  0.50  0.998055  0.981596\n",
       "2  9 months  0.004854  0.038403  0.75  0.996375  0.972132\n",
       "3    1 year  0.005500  0.038646  1.00  0.994530  0.962792\n",
       "4   2 years  0.007331  0.038526  2.00  0.985497  0.927182"
      ]
     },
     "execution_count": 18,
     "metadata": {},
     "output_type": "execute_result"
    }
   ],
   "source": [
    "zcb.head()"
   ]
  },
  {
   "cell_type": "code",
   "execution_count": 19,
   "metadata": {
    "collapsed": true
   },
   "outputs": [],
   "source": [
    "def opt_131213(rs):\n",
    "    t = 0\n",
    "    r0 = zcb['y131213'][0]\n",
    "    error = 0\n",
    "    i = 1\n",
    "    for T in [0.5,0.75]+list(range(1,31)):\n",
    "        G1 = (1/k)*(1-np.exp(-k*(T-t)))\n",
    "        G0 = (1/k**2)*(G1-T+t)*(rs*k**2-0.5*b**2)-((b*G1)**2)/(4*k)\n",
    "        B_est=np.exp(G0-r0*G1)\n",
    "        error += (B_est-zcb['b131213'][i])**2\n",
    "        i += 1\n",
    "    return error"
   ]
  },
  {
   "cell_type": "code",
   "execution_count": 20,
   "metadata": {},
   "outputs": [
    {
     "data": {
      "text/plain": [
       "      fun: 0.013682017267666166\n",
       " hess_inv: array([[ 0.00091109]])\n",
       "      jac: array([  1.02794729e-07])\n",
       "  message: 'Optimization terminated successfully.'\n",
       "     nfev: 30\n",
       "      nit: 5\n",
       "     njev: 10\n",
       "   status: 0\n",
       "  success: True\n",
       "        x: array([ 0.06250928])"
      ]
     },
     "execution_count": 20,
     "metadata": {},
     "output_type": "execute_result"
    }
   ],
   "source": [
    "res = minimize(opt_131213,0.1)\n",
    "res"
   ]
  },
  {
   "cell_type": "code",
   "execution_count": 21,
   "metadata": {
    "collapsed": true
   },
   "outputs": [],
   "source": [
    "rs = res.x[0]"
   ]
  },
  {
   "cell_type": "markdown",
   "metadata": {},
   "source": [
    "## Simulate Path"
   ]
  },
  {
   "cell_type": "markdown",
   "metadata": {},
   "source": [
    "### Find Spread0"
   ]
  },
  {
   "cell_type": "code",
   "execution_count": 22,
   "metadata": {
    "collapsed": true
   },
   "outputs": [],
   "source": [
    "ind = erb[((erb['date'].str[5:]=='03-13') | \n",
    "          (erb['date'].str[5:]=='06-13') |\n",
    "          (erb['date'].str[5:]=='09-13') |\n",
    "          (erb['date'].str[5:]=='12-13')) &\n",
    "          (erb['date'].str[0:4].astype('int')>2008) & \n",
    "          (erb['date'].str[0:4].astype('int')<2014)].index.tolist()\n",
    "\n",
    "\n",
    "ind.extend([erb[(erb['date']=='2008-12-15')].index[0],\n",
    "            erb[(erb['date']=='2009-06-15')].index[0],\n",
    "            erb[(erb['date']=='2009-09-14')].index[0],\n",
    "            erb[(erb['date']=='2009-12-14')].index[0],\n",
    "            erb[(erb['date']=='2010-03-15')].index[0],\n",
    "            erb[(erb['date']=='2010-06-14')].index[0],\n",
    "            erb[(erb['date']=='2011-03-14')].index[0]])\n",
    "\n",
    "ind.sort()\n",
    "#ind = ind[:-1]"
   ]
  },
  {
   "cell_type": "code",
   "execution_count": 23,
   "metadata": {},
   "outputs": [
    {
     "data": {
      "text/plain": [
       "21"
      ]
     },
     "execution_count": 23,
     "metadata": {},
     "output_type": "execute_result"
    }
   ],
   "source": [
    "len(ind)"
   ]
  },
  {
   "cell_type": "code",
   "execution_count": 24,
   "metadata": {
    "collapsed": true
   },
   "outputs": [],
   "source": [
    "temp = 0\n",
    "for i in ind:\n",
    "    if erb[1][i] <= 2:\n",
    "        temp += 2 * (2 - erb[1][i])\n",
    "    elif erb[1][i] >= 6:\n",
    "        temp += 2 * (erb[1][i] - 6)\n",
    "    else:\n",
    "        temp -= 0.5\n",
    "    temp = max(0, temp)\n",
    "    perc += temp*0.25"
   ]
  },
  {
   "cell_type": "code",
   "execution_count": 25,
   "metadata": {
    "collapsed": true
   },
   "outputs": [],
   "source": [
    "spread0 = temp/100"
   ]
  },
  {
   "cell_type": "code",
   "execution_count": 26,
   "metadata": {},
   "outputs": [
    {
     "data": {
      "text/plain": [
       "0.49982759999999993"
      ]
     },
     "execution_count": 26,
     "metadata": {},
     "output_type": "execute_result"
    }
   ],
   "source": [
    "spread0"
   ]
  },
  {
   "cell_type": "code",
   "execution_count": 27,
   "metadata": {
    "collapsed": true
   },
   "outputs": [],
   "source": [
    "hold=[]\n",
    "#step=[]\n",
    "for i in range(20000):\n",
    "    n=252*9\n",
    "    sp=21*3\n",
    "    r = r0 = zcb['y131213'][0]\n",
    "    df = 1\n",
    "    dt = (1/252)\n",
    "    perc = 0\n",
    "    temp = spread0\n",
    "    for j in range(n):\n",
    "        # simulate rt\n",
    "        r += k*(rs-r)*dt+b*np.random.normal()*(dt**0.5)\n",
    "        # update discount factor\n",
    "        df *= np.exp(-r*dt)\n",
    "        # update spread\n",
    "        if j%sp == 0:\n",
    "                    # calculate euribor from bond price formular\n",
    "            k = 0.1\n",
    "            t = 0\n",
    "            T = 0.25\n",
    "            G1 = (1/k)*(1-np.exp(-k*(T-t)))\n",
    "            G0 = (1/k**2)*(G1-T+t)*(rs*k**2-0.5*b**2)-((b*G1)**2)/(4*k)\n",
    "            #B_est=np.exp(G0-r*G1)\n",
    "            #erb_est = (1/B_est)**(1/(1/4))-1\n",
    "            erb_est = (G0-r*G1)/(-0.25)\n",
    "            if erb_est <= 0.02:\n",
    "                temp += 2 * (0.02 - erb_est)\n",
    "            elif erb_est >= 0.06:\n",
    "                temp += 2 * (erb_est - 0.06)\n",
    "            else:\n",
    "                temp -= 0.005\n",
    "            temp = max(0, temp)\n",
    "            perc += temp*df*0.25\n",
    "        # fixed portion of the swap\n",
    "        if j%(sp*2) == 0:\n",
    "            perc += -0.03*df*0.5\n",
    "        #if j%(sp)== 0 :\n",
    "        #    step.append(ntn*perc)\n",
    "    sim_mdp = ntn*perc\n",
    "    hold.append(sim_mdp)\n",
    "ave_mean = np.mean(hold)"
   ]
  },
  {
   "cell_type": "code",
   "execution_count": 30,
   "metadata": {},
   "outputs": [
    {
     "data": {
      "text/plain": [
       "484772949.43100178"
      ]
     },
     "execution_count": 30,
     "metadata": {},
     "output_type": "execute_result"
    }
   ],
   "source": [
    "ave_mean"
   ]
  },
  {
   "cell_type": "code",
   "execution_count": 31,
   "metadata": {},
   "outputs": [
    {
     "data": {
      "text/plain": [
       "478390362.76968479"
      ]
     },
     "execution_count": 31,
     "metadata": {},
     "output_type": "execute_result"
    }
   ],
   "source": [
    "np.median(hold)"
   ]
  },
  {
   "cell_type": "markdown",
   "metadata": {},
   "source": [
    "# Question 3"
   ]
  },
  {
   "cell_type": "markdown",
   "metadata": {},
   "source": [
    "## Answer:\n",
    "### It was not a bad deal for MdP from the start. MdP could potentially make a profit of ... because in 2007, the Euribor rate was still in-between 2% and 6%. Since the model does not predict that the Eurobir rate was going to drop so significantly, orignally the contract may seem to be in favor of MdP."
   ]
  },
  {
   "cell_type": "code",
   "execution_count": 32,
   "metadata": {
    "collapsed": true
   },
   "outputs": [],
   "source": [
    "k = 0.1\n",
    "b = 0.0065"
   ]
  },
  {
   "cell_type": "code",
   "execution_count": 33,
   "metadata": {
    "collapsed": true
   },
   "outputs": [],
   "source": [
    "def opt_070313(rs):\n",
    "    t = 0\n",
    "    r0 = zcb['y070313'][0]\n",
    "    error = 0\n",
    "    i = 1\n",
    "    for T in [0.5,0.75]+list(range(1,31)):\n",
    "        G1 = (1/k)*(1-np.exp(-k*(T-t)))\n",
    "        G0 = (1/k**2)*(G1-T+t)*(rs*k**2-0.5*b**2)-((b*G1)**2)/(4*k)\n",
    "        B_est=np.exp(G0-r0*G1)\n",
    "        error += (B_est-zcb['b070313'][i])**2\n",
    "        i += 1\n",
    "    return error"
   ]
  },
  {
   "cell_type": "code",
   "execution_count": 34,
   "metadata": {},
   "outputs": [
    {
     "data": {
      "text/plain": [
       "      fun: 0.00023199417083847085\n",
       " hess_inv: array([[ 0.00097329]])\n",
       "      jac: array([ -8.14543455e-09])\n",
       "  message: 'Optimization terminated successfully.'\n",
       "     nfev: 33\n",
       "      nit: 6\n",
       "     njev: 11\n",
       "   status: 0\n",
       "  success: True\n",
       "        x: array([ 0.04457054])"
      ]
     },
     "execution_count": 34,
     "metadata": {},
     "output_type": "execute_result"
    }
   ],
   "source": [
    "res = minimize(opt_070313,0.1)\n",
    "res"
   ]
  },
  {
   "cell_type": "code",
   "execution_count": 35,
   "metadata": {
    "collapsed": true
   },
   "outputs": [],
   "source": [
    "rs = res.x[0]"
   ]
  },
  {
   "cell_type": "code",
   "execution_count": 36,
   "metadata": {},
   "outputs": [
    {
     "data": {
      "text/plain": [
       "-16227762.328715036"
      ]
     },
     "execution_count": 36,
     "metadata": {},
     "output_type": "execute_result"
    }
   ],
   "source": [
    "hold=[]\n",
    "#step=[]\n",
    "for i in range(20000):\n",
    "    n=252*15\n",
    "    sp=21*3\n",
    "    r = r0 = zcb['y070313'][0]\n",
    "    df = 1\n",
    "    dt = (1/252)\n",
    "    perc = 0\n",
    "    temp = 0\n",
    "            \n",
    "    for j in range(n):\n",
    "        # simulate rt\n",
    "        r += k*(rs-r)*dt+b*np.random.normal()*(dt**0.5)\n",
    "        # update discount factor\n",
    "        df *= np.exp(-r*dt)\n",
    "        # update spread\n",
    "        if n>=(252*2.25):\n",
    "            if j%sp == 0:\n",
    "                        # calculate euribor from bond price formular\n",
    "                k = 0.1\n",
    "                t = 0\n",
    "                T = 0.25\n",
    "                G1 = (1/k)*(1-np.exp(-k*(T-t)))\n",
    "                G0 = (1/k**2)*(G1-T+t)*(rs*k**2-0.5*b**2)-((b*G1)**2)/(4*k)\n",
    "                #B_est=np.exp(G0-r*G1)\n",
    "                #erb_est = (1/B_est)**(1/(1/4))-1\n",
    "                erb_est = (G0-r*G1)/(-0.25)\n",
    "                if erb_est <= 0.02:\n",
    "                    temp += 2 * (0.02 - erb_est)\n",
    "                elif erb_est >= 0.06:\n",
    "                    temp += 2 * (erb_est - 0.06)\n",
    "                else:\n",
    "                    temp -= 0.005\n",
    "                temp = max(0, temp)\n",
    "                perc += temp*df*0.25\n",
    "        # fixed portion of the swap\n",
    "        if j%(sp*2) == 0:\n",
    "            perc += -0.03*df*0.5\n",
    "        #if j%(sp)== 0 :\n",
    "        #    step.append(ntn*perc)\n",
    "    sim_mdp = ntn*perc\n",
    "    hold.append(sim_mdp)\n",
    "np.mean(hold)"
   ]
  },
  {
   "cell_type": "code",
   "execution_count": 40,
   "metadata": {},
   "outputs": [
    {
     "data": {
      "text/plain": [
       "-29891701.95627813"
      ]
     },
     "execution_count": 40,
     "metadata": {},
     "output_type": "execute_result"
    }
   ],
   "source": [
    "np.median(hold)"
   ]
  },
  {
   "cell_type": "code",
   "execution_count": 41,
   "metadata": {},
   "outputs": [
    {
     "data": {
      "text/plain": [
       "-33472369.854639813"
      ]
     },
     "execution_count": 41,
     "metadata": {},
     "output_type": "execute_result"
    }
   ],
   "source": [
    "np.min(hold)"
   ]
  },
  {
   "cell_type": "code",
   "execution_count": 43,
   "metadata": {},
   "outputs": [
    {
     "data": {
      "text/plain": [
       "(array([  1.89490000e+04,   6.39000000e+02,   2.48000000e+02,\n",
       "          8.20000000e+01,   4.00000000e+01,   2.40000000e+01,\n",
       "          1.30000000e+01,   3.00000000e+00,   0.00000000e+00,\n",
       "          2.00000000e+00]),\n",
       " array([ -3.34723699e+07,   5.06191243e+07,   1.34710619e+08,\n",
       "          2.18802113e+08,   3.02893607e+08,   3.86985101e+08,\n",
       "          4.71076595e+08,   5.55168090e+08,   6.39259584e+08,\n",
       "          7.23351078e+08,   8.07442572e+08]),\n",
       " <a list of 10 Patch objects>)"
      ]
     },
     "execution_count": 43,
     "metadata": {},
     "output_type": "execute_result"
    },
    {
     "data": {
      "image/png": "[encoded data removed]",
      "text/plain": [
       "<matplotlib.figure.Figure at 0x111829160>"
      ]
     },
     "metadata": {},
     "output_type": "display_data"
    }
   ],
   "source": [
    "plt.hist(hold)"
   ]
  },
  {
   "cell_type": "code",
   "execution_count": 44,
   "metadata": {},
   "outputs": [
    {
     "data": {
      "text/plain": [
       "<matplotlib.axes._subplots.AxesSubplot at 0x111aac860>"
      ]
     },
     "execution_count": 44,
     "metadata": {},
     "output_type": "execute_result"
    },
    {
     "data": {
      "image/png": "[encoded data removed]",
      "text/plain": [
       "<matplotlib.figure.Figure at 0x111829390>"
      ]
     },
     "metadata": {},
     "output_type": "display_data"
    }
   ],
   "source": [
    "erb.set_index(0)[1].plot()"
   ]
  },
  {
   "cell_type": "markdown",
   "metadata": {},
   "source": [
    "## Question 4\n",
    "\n",
    "## Answer:\n",
    "### The interest rates model depends on the estimation of the long-run interest rate. The Vasicek model permits the existence of negative interest rates, which we could also observe in the models. We could run some market condition based scenarios to evalueate the market risk in different conditions which might better fit the interest rate movements.\n",
    "\n",
    ".\n",
    "\n",
    "\n"
   ]
  }
 ],
 "metadata": {
  "kernelspec": {
   "display_name": "Python 3",
   "language": "python",
   "name": "python3"
  },
  "language_info": {
   "codemirror_mode": {
    "name": "ipython",
    "version": 3
   },
   "file_extension": ".py",
   "mimetype": "text/x-python",
   "name": "python",
   "nbconvert_exporter": "python",
   "pygments_lexer": "ipython3",
   "version": "3.6.1"
  }
 },
 "nbformat": 4,
 "nbformat_minor": 2
}
